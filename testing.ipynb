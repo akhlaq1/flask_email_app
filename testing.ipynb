{
 "cells": [
  {
   "cell_type": "code",
   "execution_count": 1,
   "metadata": {},
   "outputs": [],
   "source": [
    "import smtplib"
   ]
  },
  {
   "cell_type": "code",
   "execution_count": 2,
   "metadata": {},
   "outputs": [],
   "source": [
    "from email.mime.text import MIMEText"
   ]
  },
  {
   "cell_type": "code",
   "execution_count": 7,
   "metadata": {},
   "outputs": [
    {
     "name": "stderr",
     "output_type": "stream",
     "text": [
      "send: 'ehlo [127.0.1.1]\\r\\n'\n",
      "reply: b'250-smtp.gmail.com at your service, [39.50.204.221]\\r\\n'\n",
      "reply: b'250-SIZE 35882577\\r\\n'\n",
      "reply: b'250-8BITMIME\\r\\n'\n",
      "reply: b'250-AUTH LOGIN PLAIN XOAUTH2 PLAIN-CLIENTTOKEN OAUTHBEARER XOAUTH\\r\\n'\n",
      "reply: b'250-ENHANCEDSTATUSCODES\\r\\n'\n",
      "reply: b'250-PIPELINING\\r\\n'\n",
      "reply: b'250-CHUNKING\\r\\n'\n",
      "reply: b'250 SMTPUTF8\\r\\n'\n",
      "reply: retcode (250); Msg: b'smtp.gmail.com at your service, [39.50.204.221]\\nSIZE 35882577\\n8BITMIME\\nAUTH LOGIN PLAIN XOAUTH2 PLAIN-CLIENTTOKEN OAUTHBEARER XOAUTH\\nENHANCEDSTATUSCODES\\nPIPELINING\\nCHUNKING\\nSMTPUTF8'\n",
      "send: 'AUTH PLAIN AGFraGxhcS5jb21wdXRlcjFAZ21haWwuY29tAGFraGxhcV8xMDEw\\r\\n'\n",
      "reply: b'235 2.7.0 Accepted\\r\\n'\n",
      "reply: retcode (235); Msg: b'2.7.0 Accepted'\n",
      "send: 'mail FROM:<akhlaq.computer1@gmail.com> size=226\\r\\n'\n",
      "reply: b'250 2.1.0 OK m3sm422143wmc.44 - gsmtp\\r\\n'\n",
      "reply: retcode (250); Msg: b'2.1.0 OK m3sm422143wmc.44 - gsmtp'\n",
      "send: 'rcpt TO:<akhlaq.computer1@gmail.com>\\r\\n'\n",
      "reply: b'250 2.1.5 OK m3sm422143wmc.44 - gsmtp\\r\\n'\n",
      "reply: retcode (250); Msg: b'2.1.5 OK m3sm422143wmc.44 - gsmtp'\n",
      "send: 'data\\r\\n'\n",
      "reply: b'354  Go ahead m3sm422143wmc.44 - gsmtp\\r\\n'\n",
      "reply: retcode (354); Msg: b'Go ahead m3sm422143wmc.44 - gsmtp'\n",
      "data: (354, b'Go ahead m3sm422143wmc.44 - gsmtp')\n",
      "send: b'Content-Type: text/plain; charset=\"utf-8\"\\r\\nMIME-Version: 1.0\\r\\nContent-Transfer-Encoding: base64\\r\\nSubject: =?utf-8?q?subject=E2=80=A6?=\\r\\nFrom: akhlaq.computer1@gmail.com\\r\\nTo: akhlaq.computer1@gmail.com\\r\\n\\r\\nbWVzc2FnZSBib2R54oCm\\r\\n.\\r\\n'\n",
      "reply: b'250 2.0.0 OK  1566324555 m3sm422143wmc.44 - gsmtp\\r\\n'\n",
      "reply: retcode (250); Msg: b'2.0.0 OK  1566324555 m3sm422143wmc.44 - gsmtp'\n",
      "data: (250, b'2.0.0 OK  1566324555 m3sm422143wmc.44 - gsmtp')\n",
      "send: 'quit\\r\\n'\n",
      "reply: b'221 2.0.0 closing connection m3sm422143wmc.44 - gsmtp\\r\\n'\n",
      "reply: retcode (221); Msg: b'2.0.0 closing connection m3sm422143wmc.44 - gsmtp'\n"
     ]
    }
   ],
   "source": [
    "from email.header    import Header\n",
    "from email.mime.text import MIMEText\n",
    "from getpass         import getpass\n",
    "from smtplib         import SMTP_SSL\n",
    "\n",
    "\n",
    "login, password = 'akhlaq.computer1@gmail.com', \"akhlaq_1010\"\n",
    "recipients = [login]\n",
    "\n",
    "# create message\n",
    "msg = MIMEText('message body…', 'plain', 'utf-8')\n",
    "msg['Subject'] = Header('subject…', 'utf-8')\n",
    "msg['From'] = login\n",
    "msg['To'] = \", \".join(recipients)\n",
    "\n",
    "# send it via gmail\n",
    "s = SMTP_SSL('smtp.gmail.com', 465, timeout=20)\n",
    "s.set_debuglevel(1)\n",
    "try:\n",
    "    s.login(login, password)\n",
    "    s.sendmail(msg['From'], recipients, msg.as_string())\n",
    "    print(\"Email sent seuccessfully\")\n",
    "finally:\n",
    "    s.quit()\n",
    "except:\n",
    "    print(\"Email not sent\")"
   ]
  },
  {
   "cell_type": "code",
   "execution_count": 1,
   "metadata": {},
   "outputs": [],
   "source": [
    "from datetime import datetime"
   ]
  },
  {
   "cell_type": "code",
   "execution_count": 8,
   "metadata": {},
   "outputs": [
    {
     "data": {
      "text/plain": [
       "2.0"
      ]
     },
     "execution_count": 8,
     "metadata": {},
     "output_type": "execute_result"
    }
   ],
   "source": [
    "a = datetime.strptime(str(\"2019-08-22\"), '%Y-%m-%d')\n",
    "b = datetime.strptime(str(\"2019-08-24\"), '%Y-%m-%d')\n",
    "c = b-a\n",
    "c.total_seconds() / 86400"
   ]
  },
  {
   "cell_type": "code",
   "execution_count": null,
   "metadata": {},
   "outputs": [],
   "source": []
  }
 ],
 "metadata": {
  "kernelspec": {
   "display_name": "Python 3",
   "language": "python",
   "name": "python3"
  },
  "language_info": {
   "codemirror_mode": {
    "name": "ipython",
    "version": 3
   },
   "file_extension": ".py",
   "mimetype": "text/x-python",
   "name": "python",
   "nbconvert_exporter": "python",
   "pygments_lexer": "ipython3",
   "version": "3.6.7"
  }
 },
 "nbformat": 4,
 "nbformat_minor": 2
}
